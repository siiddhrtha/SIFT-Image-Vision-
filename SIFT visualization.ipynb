{
 "cells": [
  {
   "cell_type": "code",
   "execution_count": 1,
   "id": "6bd5b6f7",
   "metadata": {},
   "outputs": [
    {
     "name": "stdout",
     "output_type": "stream",
     "text": [
      "Requirement already satisfied: opencv-contrib-python in c:\\users\\siddh\\appdata\\roaming\\python\\python38\\site-packages (4.5.5.64)\n",
      "Requirement already satisfied: numpy>=1.17.3 in c:\\users\\siddh\\anaconda3\\lib\\site-packages (from opencv-contrib-python) (1.20.3)\n",
      "Note: you may need to restart the kernel to use updated packages.\n"
     ]
    }
   ],
   "source": [
    "\n",
    "pip install --user opencv-contrib-python"
   ]
  },
  {
   "cell_type": "code",
   "execution_count": 29,
   "id": "d33a1aeb",
   "metadata": {},
   "outputs": [
    {
     "name": "stdout",
     "output_type": "stream",
     "text": [
      "Requirement already satisfied: numpy in c:\\users\\siddh\\anaconda3\\lib\\site-packages (1.20.3)\n",
      "Note: you may need to restart the kernel to use updated packages.\n"
     ]
    }
   ],
   "source": [
    "pip install numpy\n"
   ]
  },
  {
   "cell_type": "markdown",
   "id": "68c39669",
   "metadata": {},
   "source": [
    "The below code loads the image and convert it to grayscale, let's create SIFT feature extractor object:"
   ]
  },
  {
   "cell_type": "code",
   "execution_count": 3,
   "id": "48eaa87c",
   "metadata": {},
   "outputs": [],
   "source": [
    "import cv2 \n",
    "\n",
    "# reading the image\n",
    "img = cv2.imread(r\"C:\\Users\\siddh\\Downloads\\Malware Forensics\\Dataset\\Malimng\\dataset_9010\\dataset_9010\\malimg_dataset\\train\\Adialer.C\\000bde2e9a94ba41c0c111ffd80647c2.png\")\n",
    "# convert to greyscale\n",
    "gray = cv2.cvtColor(img, cv2.COLOR_BGR2GRAY)"
   ]
  },
  {
   "cell_type": "code",
   "execution_count": 6,
   "id": "b9029d66",
   "metadata": {},
   "outputs": [],
   "source": [
    "# create SIFT feature extractor\n",
    "sift = cv2.xfeatures2d.SIFT_create()"
   ]
  },
  {
   "cell_type": "markdown",
   "id": "9b4f6746",
   "metadata": {},
   "source": [
    "To detect the keypoints and descriptors, we simply pass the image to detectAndCompute() method:"
   ]
  },
  {
   "cell_type": "code",
   "execution_count": 7,
   "id": "0ec47208",
   "metadata": {},
   "outputs": [],
   "source": [
    "# detect features from the image\n",
    "keypoints, descriptors = sift.detectAndCompute(img, None)"
   ]
  },
  {
   "cell_type": "code",
   "execution_count": 9,
   "id": "4bb42913",
   "metadata": {},
   "outputs": [],
   "source": [
    "# draw the detected key points\n",
    "sift_image = cv2.drawKeypoints(gray, keypoints, img)\n",
    "# show the image\n",
    "cv2.imshow('image', sift_image)\n",
    "# save the image\n",
    "cv2.imwrite(\"table-sift.jpg\", sift_image)\n",
    "cv2.waitKey(0)\n",
    "cv2.destroyAllWindows()"
   ]
  },
  {
   "cell_type": "code",
   "execution_count": null,
   "id": "c58be9a4",
   "metadata": {},
   "outputs": [],
   "source": []
  },
  {
   "cell_type": "code",
   "execution_count": 10,
   "id": "c741af7f",
   "metadata": {},
   "outputs": [],
   "source": [
    "import cv2\n",
    "\n",
    "# read the images\n",
    "img1 = cv2.imread(r\"C:\\Users\\siddh\\Downloads\\Malware Forensics\\Dataset\\Malimng\\dataset_9010\\dataset_9010\\malimg_dataset\\train\\Adialer.C\\000bde2e9a94ba41c0c111ffd80647c2.png\")  \n",
    "img2 = cv2.imread(r\"C:\\Users\\siddh\\Downloads\\Malware Forensics\\Dataset\\Malimng\\dataset_9010\\dataset_9010\\malimg_dataset\\train\\Adialer.C\\000e30a0819ac7ed931d629ce2ef8948.png\")\n",
    "# convert images to grayscale\n",
    "img1 = cv2.cvtColor(img1, cv2.COLOR_BGR2GRAY)\n",
    "img2 = cv2.cvtColor(img2, cv2.COLOR_BGR2GRAY)\n",
    "# create SIFT object\n",
    "sift = cv2.xfeatures2d.SIFT_create()\n",
    "# detect SIFT features in both images\n",
    "keypoints_1, descriptors_1 = sift.detectAndCompute(img1,None)\n",
    "keypoints_2, descriptors_2 = sift.detectAndCompute(img2,None)"
   ]
  },
  {
   "cell_type": "markdown",
   "id": "70e4e362",
   "metadata": {},
   "source": [
    "Now that we have keypoints and descriptors of both images, let's make a matcher to match the descriptors:"
   ]
  },
  {
   "cell_type": "code",
   "execution_count": 11,
   "id": "674adf2a",
   "metadata": {},
   "outputs": [],
   "source": [
    "# create feature matcher\n",
    "bf = cv2.BFMatcher(cv2.NORM_L1, crossCheck=True)\n",
    "# match descriptors of both images\n",
    "matches = bf.match(descriptors_1,descriptors_2)"
   ]
  },
  {
   "cell_type": "markdown",
   "id": "144cde19",
   "metadata": {},
   "source": [
    "Let's sort the matches by distance and draw the first 50 matches:\n",
    "\n"
   ]
  },
  {
   "cell_type": "code",
   "execution_count": 12,
   "id": "176271db",
   "metadata": {},
   "outputs": [],
   "source": [
    "# sort matches by distance\n",
    "matches = sorted(matches, key = lambda x:x.distance)\n",
    "# draw first 50 matches\n",
    "matched_img = cv2.drawMatches(img1, keypoints_1, img2, keypoints_2, matches[:50], img2, flags=2)"
   ]
  },
  {
   "cell_type": "markdown",
   "id": "10dc8697",
   "metadata": {},
   "source": [
    "Finally, showing and saving the image:"
   ]
  },
  {
   "cell_type": "code",
   "execution_count": null,
   "id": "65893bed",
   "metadata": {},
   "outputs": [],
   "source": []
  },
  {
   "cell_type": "code",
   "execution_count": 14,
   "id": "a0b40713",
   "metadata": {},
   "outputs": [],
   "source": [
    "# show the image\n",
    "cv2.imshow('image', matched_img)\n",
    "# save the image\n",
    "cv2.imwrite(\"matched_images.jpg\", matched_img)\n",
    "cv2.waitKey(0)\n",
    "cv2.destroyAllWindows()"
   ]
  },
  {
   "cell_type": "code",
   "execution_count": null,
   "id": "bbba0b81",
   "metadata": {},
   "outputs": [],
   "source": []
  }
 ],
 "metadata": {
  "kernelspec": {
   "display_name": "Python 3 (ipykernel)",
   "language": "python",
   "name": "python3"
  },
  "language_info": {
   "codemirror_mode": {
    "name": "ipython",
    "version": 3
   },
   "file_extension": ".py",
   "mimetype": "text/x-python",
   "name": "python",
   "nbconvert_exporter": "python",
   "pygments_lexer": "ipython3",
   "version": "3.8.12"
  }
 },
 "nbformat": 4,
 "nbformat_minor": 5
}
